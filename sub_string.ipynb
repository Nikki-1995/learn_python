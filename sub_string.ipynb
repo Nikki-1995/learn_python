{
 "cells": [
  {
   "cell_type": "code",
   "execution_count": 7,
   "metadata": {},
   "outputs": [],
   "source": [
    "def sub_string(name):\n",
    "    vowel=['a','E','I','O','U']\n",
    "    for i in range(len(name)): #6\n",
    "        if name[i] in vowel:\n",
    "            for j in range(i+1,len(name)+1): #0\n",
    "                print (name[i:j])\n",
    "            \n",
    "        "
   ]
  },
  {
   "cell_type": "code",
   "execution_count": 8,
   "metadata": {},
   "outputs": [
    {
     "name": "stdout",
     "output_type": "stream",
     "text": [
      "a\n",
      "ab\n",
      "abh\n",
      "abhi\n"
     ]
    }
   ],
   "source": [
    "sub_string('abhi')"
   ]
  },
  {
   "cell_type": "code",
   "execution_count": 16,
   "metadata": {},
   "outputs": [],
   "source": [
    "def rangoli(size):\n",
    "    for i in range(2*size):\n",
    "        for j in range(1,4*size-2):\n",
    "            if j%2==1:\n",
    "                print('a',end='')\n",
    "            else:\n",
    "                print('-',end='')\n",
    "        print()"
   ]
  },
  {
   "cell_type": "code",
   "execution_count": 17,
   "metadata": {},
   "outputs": [
    {
     "name": "stdout",
     "output_type": "stream",
     "text": [
      "a-a-a-a-a\n",
      "a-a-a-a-a\n",
      "a-a-a-a-a\n",
      "a-a-a-a-a\n",
      "a-a-a-a-a\n",
      "a-a-a-a-a\n"
     ]
    }
   ],
   "source": [
    "rangoli(3)"
   ]
  },
  {
   "cell_type": "code",
   "execution_count": null,
   "metadata": {},
   "outputs": [],
   "source": []
  }
 ],
 "metadata": {
  "kernelspec": {
   "display_name": "Python 3",
   "language": "python",
   "name": "python3"
  },
  "language_info": {
   "codemirror_mode": {
    "name": "ipython",
    "version": 3
   },
   "file_extension": ".py",
   "mimetype": "text/x-python",
   "name": "python",
   "nbconvert_exporter": "python",
   "pygments_lexer": "ipython3",
   "version": "3.7.6"
  }
 },
 "nbformat": 4,
 "nbformat_minor": 4
}
